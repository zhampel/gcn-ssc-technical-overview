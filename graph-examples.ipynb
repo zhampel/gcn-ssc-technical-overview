{
 "cells": [
  {
   "cell_type": "code",
   "execution_count": 1,
   "metadata": {},
   "outputs": [],
   "source": [
    "import numpy as np\n",
    "import scipy\n",
    "from scipy.linalg import fractional_matrix_power as fracpow\n",
    "from numpy.linalg import matrix_power as matpow\n",
    "from numpy.linalg import eig as eigvv\n",
    "np.set_printoptions(threshold=np.nan)"
   ]
  },
  {
   "cell_type": "markdown",
   "metadata": {},
   "source": [
    "# Simple Connected Graph\n",
    "\n",
    "A simple connected undirected graph with $n=|V|=4$ vertices.\n",
    "\n",
    "<br><br>\n",
    "\n",
    "![simple_graph](images/simple_graph.png)\n",
    "\n",
    "<br><br>\n",
    "\n",
    "Thus indices $i \\in [0,n-1]$.\n",
    "\n",
    "<br>\n",
    "\n",
    "The adjacency matrix $A$ defines the connectivity of the graph:\n",
    "$$\n",
    "A_{ij} = \n",
    "\\begin{cases}\n",
    "2 & \\text{ if loop at } i=j \\\\\n",
    "1 & \\text{ if edge from vertex i to j} \\\\\n",
    "0 & \\text{ otherwise}\n",
    "\\end{cases}\n",
    "$$\n",
    "\n",
    "<br>\n",
    "\n",
    "The degree matrix $D$ is diagonal, giving the number of edges at each node:\n",
    "$$\n",
    "D_{ii} = \\sum_j A_{ij}\n",
    "$$\n",
    "\n",
    "<br>\n",
    "\n",
    "The distance matrix $d$ gives the shortest path from node $i \\rightarrow j$\n",
    "\n",
    "$$\n",
    "d_{ij} = \n",
    "\\begin{cases}\n",
    "\\text{number of edges defining shortest path from } i \\rightarrow j\\\\\n",
    "0 \\text{ on diagonal}\n",
    "\\end{cases}\n",
    "$$"
   ]
  },
  {
   "cell_type": "code",
   "execution_count": 2,
   "metadata": {},
   "outputs": [
    {
     "name": "stdout",
     "output_type": "stream",
     "text": [
      "Adjacency Matrix A:\n",
      "[[0. 1. 0. 0.]\n",
      " [1. 0. 1. 1.]\n",
      " [0. 1. 0. 1.]\n",
      " [0. 1. 1. 0.]]\n"
     ]
    }
   ],
   "source": [
    "# Adjacency matrix A for example\n",
    "A = np.zeros((4, 4))\n",
    "A[1,0] = 1\n",
    "A[2,1] = 1\n",
    "A[3,1] = 1\n",
    "A[3,2] = 1\n",
    "A += A.T\n",
    "print('Adjacency Matrix A:')\n",
    "print(A)"
   ]
  },
  {
   "cell_type": "code",
   "execution_count": 3,
   "metadata": {},
   "outputs": [
    {
     "name": "stdout",
     "output_type": "stream",
     "text": [
      "Degree Matrix D:\n",
      "[[1. 0. 0. 0.]\n",
      " [0. 3. 0. 0.]\n",
      " [0. 0. 2. 0.]\n",
      " [0. 0. 0. 2.]]\n"
     ]
    }
   ],
   "source": [
    "# Degree matrix D for example\n",
    "D = np.zeros(A.shape)\n",
    "for i in range(0,A.shape[0]):\n",
    "    D[i,i] = A[:,i].sum()\n",
    "print('Degree Matrix D:')\n",
    "print(D)"
   ]
  },
  {
   "cell_type": "code",
   "execution_count": 4,
   "metadata": {},
   "outputs": [
    {
     "name": "stdout",
     "output_type": "stream",
     "text": [
      "A x A:\n",
      "[[1. 0. 1. 1.]\n",
      " [0. 3. 1. 1.]\n",
      " [1. 1. 2. 1.]\n",
      " [1. 1. 1. 2.]]\n",
      "A x A x A:\n",
      "[[0. 3. 1. 1.]\n",
      " [3. 2. 4. 4.]\n",
      " [1. 4. 2. 3.]\n",
      " [1. 4. 3. 2.]]\n",
      "A^10\n",
      "[[197. 380. 349. 349.]\n",
      " [380. 895. 729. 729.]\n",
      " [349. 729. 638. 637.]\n",
      " [349. 729. 637. 638.]]\n"
     ]
    }
   ],
   "source": [
    "# Value (A^n)ij gives maximum number of walks (paths) of length n between vertices i & j\n",
    "A2 = matpow(A,2)\n",
    "A3 = matpow(A,3)\n",
    "A10 = matpow(A,10)\n",
    "print('A x A:')\n",
    "print(A2)\n",
    "print('A x A x A:')\n",
    "print(A3)\n",
    "print('A^10')\n",
    "print(A10)"
   ]
  },
  {
   "cell_type": "markdown",
   "metadata": {},
   "source": [
    "# Laplacian\n",
    "\n",
    "For simple graph, the Laplacian is given by $L = D - A$,\n",
    "\n",
    "$$\n",
    "L_{ij} =\n",
    "\\begin{cases}\n",
    " \\text{deg} \\,  v_i & \\text{ if } i=j \\\\\n",
    " -1 & \\text{ if } i \\neq j \\text{ and } v_i \\text{ adjacent to } v_j \\\\\n",
    " 0 & \\text{ otherwise}\n",
    "\\end{cases}\n",
    "$$\n",
    "\n",
    "<br>\n",
    "\n",
    "The symmetric, normalized Laplacian $L_{\\text{norm}}$ is given by\n",
    "\n",
    "$$\n",
    "L_{\\text{norm}} = D^{-1/2} \\, L \\, D^{-1/2} = I - D^{-1/2} \\, A \\, D^{-1/2} \\, ,\n",
    "$$\n",
    "\n",
    "$$\n",
    "L^{\\text{norm}}_{ij} =\n",
    "\\begin{cases}\n",
    " 1  &\\text{ if } i=j  \\text{ and deg} \\, v_i \\neq 0 \\\\\n",
    " -\\left( \\text{deg } v_i \\, \\text{deg } v_j \\right)^{-1/2} & \\text{ if } i \\neq j \\text{ and } v_i \\text{ adjacent to } v_j \\\\\n",
    " 0 & \\text{ otherwise}\n",
    "\\end{cases}\n",
    "$$\n",
    "\n",
    "<br>\n",
    "The resulting spectrum of eigenvalues are all non-negative real values: $\\lambda^{\\text{norm}}_i \\in \\mathbb{R}_{\\geq 0} \\ \\ , \\ \\forall i$"
   ]
  },
  {
   "cell_type": "code",
   "execution_count": 5,
   "metadata": {},
   "outputs": [
    {
     "name": "stdout",
     "output_type": "stream",
     "text": [
      "Laplacian\n",
      "[[ 1. -1.  0.  0.]\n",
      " [-1.  3. -1. -1.]\n",
      " [ 0. -1.  2. -1.]\n",
      " [ 0. -1. -1.  2.]]\n",
      "\n",
      "\n",
      "L_norm\n",
      "[[0.         0.57735027 0.         0.        ]\n",
      " [0.57735027 0.         0.40824829 0.40824829]\n",
      " [0.         0.40824829 0.         0.5       ]\n",
      " [0.         0.40824829 0.5        0.        ]]\n"
     ]
    }
   ],
   "source": [
    "# Laplacian & normalized Laplacian\n",
    "L = D-A\n",
    "\n",
    "D_h = fracpow(D,-0.5)\n",
    "L_norm = np.matmul(D_h, np.matmul(A, D_h))\n",
    "\n",
    "print('Laplacian')\n",
    "print(L)\n",
    "\n",
    "print('\\n')\n",
    "\n",
    "print('L_norm')\n",
    "print(L_norm)"
   ]
  },
  {
   "cell_type": "code",
   "execution_count": 6,
   "metadata": {},
   "outputs": [
    {
     "name": "stdout",
     "output_type": "stream",
     "text": [
      "Eigenvalues, vectors of L\n",
      "[ 4.00000000e+00  1.00000000e+00 -1.51136928e-16  3.00000000e+00]\n",
      "[[-2.88675135e-01 -8.16496581e-01 -5.00000000e-01 -1.11437188e-16]\n",
      " [ 8.66025404e-01  1.46343894e-16 -5.00000000e-01  2.22874376e-16]\n",
      " [-2.88675135e-01  4.08248290e-01 -5.00000000e-01 -7.07106781e-01]\n",
      " [-2.88675135e-01  4.08248290e-01 -5.00000000e-01  7.07106781e-01]]\n",
      "\n",
      "\n",
      "Eigenvalues, vectors of L_norm\n",
      "[-0.72871355  0.22871355  1.         -0.5       ]\n",
      "[[ 5.82736062e-01  7.31723091e-01 -3.53553391e-01 -6.61852455e-17]\n",
      " [-7.35511335e-01  2.89867343e-01 -6.12372436e-01  5.73181040e-17]\n",
      " [ 2.44378557e-01 -4.36209951e-01 -5.00000000e-01 -7.07106781e-01]\n",
      " [ 2.44378557e-01 -4.36209951e-01 -5.00000000e-01  7.07106781e-01]]\n"
     ]
    }
   ],
   "source": [
    "# Eigenvalues and eigenvectors of L, L_norm\n",
    "lam_L, vec_L = eigvv(L)\n",
    "print('Eigenvalues, vectors of L')\n",
    "print(lam_L)\n",
    "print(vec_L)\n",
    "\n",
    "print('\\n')\n",
    "\n",
    "lam_norm_L, vec_norm_L = eigvv(L_norm)\n",
    "print('Eigenvalues, vectors of L_norm')\n",
    "print(lam_norm_L)\n",
    "print(vec_norm_L)"
   ]
  },
  {
   "cell_type": "code",
   "execution_count": null,
   "metadata": {},
   "outputs": [],
   "source": []
  },
  {
   "cell_type": "code",
   "execution_count": null,
   "metadata": {},
   "outputs": [],
   "source": []
  },
  {
   "cell_type": "code",
   "execution_count": null,
   "metadata": {},
   "outputs": [],
   "source": []
  }
 ],
 "metadata": {
  "kernelspec": {
   "display_name": "Python 2",
   "language": "python",
   "name": "python2"
  },
  "language_info": {
   "codemirror_mode": {
    "name": "ipython",
    "version": 2
   },
   "file_extension": ".py",
   "mimetype": "text/x-python",
   "name": "python",
   "nbconvert_exporter": "python",
   "pygments_lexer": "ipython2",
   "version": "2.7.10"
  }
 },
 "nbformat": 4,
 "nbformat_minor": 2
}
